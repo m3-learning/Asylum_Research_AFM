{
 "cells": [
  {
   "cell_type": "code",
   "execution_count": 13,
   "metadata": {},
   "outputs": [
    {
     "ename": "Exception",
     "evalue": "Server host is not defined",
     "output_type": "error",
     "traceback": [
      "\u001b[1;31m---------------------------------------------------------------------------\u001b[0m",
      "\u001b[1;31mException\u001b[0m                                 Traceback (most recent call last)",
      "Cell \u001b[1;32mIn[13], line 7\u001b[0m\n\u001b[0;32m      5\u001b[0m \u001b[39m# Initialize the API object\u001b[39;00m\n\u001b[0;32m      6\u001b[0m api \u001b[39m=\u001b[39m datafed\u001b[39m.\u001b[39mCommandLib\u001b[39m.\u001b[39mAPI()\n\u001b[1;32m----> 7\u001b[0m mapi \u001b[39m=\u001b[39m datafed\u001b[39m.\u001b[39;49mMessageLib\u001b[39m.\u001b[39;49mAPI()\n\u001b[0;32m     10\u001b[0m \u001b[39mdef\u001b[39;00m \u001b[39mDataFed_Log_In\u001b[39m():\n\u001b[0;32m     11\u001b[0m     mapi\u001b[39m.\u001b[39mlogout()\n",
      "File \u001b[1;32m~\\AppData\\Roaming\\Python\\Python310\\site-packages\\datafed\\MessageLib.py:76\u001b[0m, in \u001b[0;36mAPI.__init__\u001b[1;34m(self, server_host, server_port, server_pub_key_file, server_pub_key, client_pub_key_file, client_pub_key, client_priv_key_file, client_priv_key, client_token, manual_auth, **kwargs)\u001b[0m\n\u001b[0;32m     73\u001b[0m \u001b[39mself\u001b[39m\u001b[39m.\u001b[39m_timeout \u001b[39m=\u001b[39m \u001b[39m30000\u001b[39m\n\u001b[0;32m     75\u001b[0m \u001b[39mif\u001b[39;00m \u001b[39mnot\u001b[39;00m server_host:\n\u001b[1;32m---> 76\u001b[0m     \u001b[39mraise\u001b[39;00m \u001b[39mException\u001b[39;00m(\u001b[39m\"\u001b[39m\u001b[39mServer host is not defined\u001b[39m\u001b[39m\"\u001b[39m)\n\u001b[0;32m     78\u001b[0m \u001b[39mif\u001b[39;00m server_port \u001b[39m==\u001b[39m \u001b[39mNone\u001b[39;00m:\n\u001b[0;32m     79\u001b[0m     \u001b[39mraise\u001b[39;00m \u001b[39mException\u001b[39;00m(\u001b[39m\"\u001b[39m\u001b[39mServer port is not defined\u001b[39m\u001b[39m\"\u001b[39m)\n",
      "\u001b[1;31mException\u001b[0m: Server host is not defined"
     ]
    }
   ],
   "source": [
    "import datafed.CommandLib\n",
    "import getpass\n",
    "import datafed.MessageLib\n",
    "\n",
    "# Initialize the API object\n",
    "api = datafed.CommandLib.API()\n",
    "mapi = datafed.MessageLib.API()\n",
    "\n",
    "\n",
    "def DataFed_Log_In():\n",
    "    mapi.logout()\n",
    "    # Prompt for user ID and password\n",
    "    uid = input(\"User ID: \")\n",
    "    password = getpass.getpass(prompt=\"Password: \")\n",
    "\n",
    "    try:\n",
    "        # Attempt to log in using provided credentials\n",
    "        mapi.manualAuthByPassword(uid, password)\n",
    "        success = f\"Successfully logged in to Data as {api.getAuthUser()}\"\n",
    "    except:\n",
    "        success = \"Could not log into DataFed. Check your internet connection, username, and password\"\n",
    "\n",
    "    return success"
   ]
  },
  {
   "cell_type": "code",
   "execution_count": 22,
   "metadata": {},
   "outputs": [
    {
     "name": "stdout",
     "output_type": "stream",
     "text": [
      "File found: C:\\Users\\Asylum User\\Documents\\Asylum Research Data\\230802\\Image0006.ibw\n"
     ]
    }
   ],
   "source": [
    "import os\n",
    "\n",
    "directory = r\"C:\\Users\\Asylum User\\Documents\\Asylum Research Data\\230802\"\n",
    "filename = \"Image0006.ibw\"\n",
    "file_path = os.path.join(directory, filename)\n",
    "\n",
    "if os.path.exists(file_path):\n",
    "    print(\"File found:\", file_path)\n",
    "else:\n",
    "    print(\"File not found:\", file_path)\n"
   ]
  },
  {
   "cell_type": "code",
   "execution_count": 8,
   "metadata": {},
   "outputs": [
    {
     "name": "stdout",
     "output_type": "stream",
     "text": [
      "Successfully logged in to Data as u/yig319\n"
     ]
    }
   ],
   "source": [
    "# Call the login function and print the resul\n",
    "login_result = DataFed_Log_In()\n",
    "print(login_result)\n"
   ]
  },
  {
   "cell_type": "code",
   "execution_count": null,
   "metadata": {},
   "outputs": [],
   "source": [
    "import argparse\n",
    "from util import *\n",
    "from datafed.CommandLib import API\n",
    "import os\n",
    "import glob\n",
    "\n",
    "def _send_ibw_to_datafed(file_name, collection_id):\n",
    "    df_api = API()\n",
    "    \n",
    "    json_output = get_metadata(file_name)\n",
    "\n",
    "    print(file_name)\n",
    "    print(collection_id)\n",
    "\n",
    "    # This removes flattening information and fixes inf values in metadata\n",
    "    try: \n",
    "        del json_output['Flatten Offsets 0']\n",
    "    except:\n",
    "        pass\n",
    "\n",
    "    try:\n",
    "        del json_output['Flatten Slopes 0']\n",
    "    except:\n",
    "        pass\n",
    "\n",
    "    try:\n",
    "        del json_output['Flatten Slopes 4']\n",
    "    except:\n",
    "        pass\n",
    "\n",
    "    try: \n",
    "        del json_output['Flatten Offsets 4']\n",
    "    except:\n",
    "        pass\n",
    "\n",
    "    try: \n",
    "        del json_output['Flatten Offsets 1']\n",
    "    except:\n",
    "        pass\n",
    "\n",
    "    try:\n",
    "        del json_output['Flatten Slopes 1']\n",
    "    except:\n",
    "        pass\n",
    "\n",
    "    for i, (key, value) in enumerate(json_output.items()):\n",
    "        if value == np.NINF:\n",
    "            json_output[key] = '-Inf'\n",
    "\n",
    "    for i, (key, value) in enumerate(json_output.items()):\n",
    "        if value == np.Inf:\n",
    "            json_output[key] = 'Inf'\n",
    "\n",
    "    try:\n",
    "        # creates a new data record\n",
    "        dc_resp = df_api.dataCreate(os.path.basename(file_name), # file name\n",
    "                                metadata=json.dumps(json_output), # metadata\n",
    "                                parent_id=collection_id, # parent collection\n",
    "                            )\n",
    "    except Exception:\n",
    "\n",
    "        print('There was an error creating the DataRecord')\n",
    "\n",
    "    try: \n",
    "        # extracts the record ID\n",
    "        rec_id = dc_resp[0].data[0].id\n",
    "    except ValueError:\n",
    "        print('Could not find record ID')\n",
    "\n",
    "    try:\n",
    "        # sends the put command\n",
    "        put_resp = df_api.dataPut(rec_id,\n",
    "                                    file_name,\n",
    "                                    wait = True)\n",
    "    except Exception:\n",
    "        print('Could not intiate globus transfer')\n",
    "\n",
    "if __name__ == \"__main__\":\n",
    "    parser = argparse.ArgumentParser(\n",
    "        description=\"This is a function that sends ibw files from Oxford Instruments Asylum Research Atomic Force Microscopes to DataFed\"\n",
    "    )\n",
    "    parser.add_argument(\"file_name\", help=\"This is the name of the full file path\")\n",
    "    parser.add_argument(\"collection_id\", help=\"This is the name of the collection ID where the file will be saved on DataFed\")\n",
    "    args = parser.parse_args()\n",
    "\n",
    "    if os.path.isdir(args.file_name):\n",
    "\n",
    "        file_name = r'C:\\Users\\Asylum User\\Documents\\Asylum Research Data\\230802\\Image0006.ibw'\n",
    "\n",
    "        if os.path.isdir(args.file_name):\n",
    "            file_list = glob.glob(args.file_name + \"\\**\\*.ibw\", recursive= True)\n",
    "\n",
    "            for file in file_list:\n",
    "                try:\n",
    "                    _send_ibw_to_datafed(file, args.collection_id)\n",
    "                except:\n",
    "                    pass\n",
    "        \n",
    "        else:\n",
    "            _send_ibw_to_datafed(args.file_name, args.collection_id) "
   ]
  }
 ],
 "metadata": {
  "kernelspec": {
   "display_name": "afm",
   "language": "python",
   "name": "afm"
  },
  "language_info": {
   "codemirror_mode": {
    "name": "ipython",
    "version": 3
   },
   "file_extension": ".py",
   "mimetype": "text/x-python",
   "name": "python",
   "nbconvert_exporter": "python",
   "pygments_lexer": "ipython3",
   "version": "3.10.9"
  },
  "orig_nbformat": 4
 },
 "nbformat": 4,
 "nbformat_minor": 2
}
