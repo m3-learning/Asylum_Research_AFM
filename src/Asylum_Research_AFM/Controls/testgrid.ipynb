{
 "cells": [
  {
   "cell_type": "code",
   "execution_count": null,
   "metadata": {},
   "outputs": [],
   "source": [
    "import win32com"
   ]
  },
  {
   "cell_type": "code",
   "execution_count": null,
   "metadata": {},
   "outputs": [],
   "source": [
    "from src.Controls.master_panel import *\n",
    "from src.core.Igor_activex_grid import *"
   ]
  },
  {
   "cell_type": "code",
   "execution_count": null,
   "metadata": {},
   "outputs": [],
   "source": [
    "my_data = get_wave_data(\"MasterVariablesWave\",\"root:packages:MFP3D:main:variables\")\n"
   ]
  },
  {
   "cell_type": "code",
   "execution_count": null,
   "metadata": {},
   "outputs": [],
   "source": [
    "grid_param_list = ['ScanSize']\n",
    "my_grid_param = create_grid_params(grid_param_list, my_data)"
   ]
  },
  {
   "cell_type": "code",
   "execution_count": null,
   "metadata": {},
   "outputs": [],
   "source": [
    "my_grid = grid_maker(60,60,my_grid_param['ScanSize'])\n"
   ]
  },
  {
   "cell_type": "code",
   "execution_count": null,
   "metadata": {},
   "outputs": [],
   "source": [
    "my_grid[0].shape"
   ]
  },
  {
   "cell_type": "code",
   "execution_count": null,
   "metadata": {},
   "outputs": [],
   "source": [
    "for x, y in zip(my_grid[0].flatten(), my_grid[1].flatten()):\n",
    "    print(x, y)"
   ]
  },
  {
   "cell_type": "code",
   "execution_count": 1,
   "metadata": {},
   "outputs": [],
   "source": [
    "from Asylum_Research_AFM.Controls.scans import GridScan"
   ]
  },
  {
   "cell_type": "code",
   "execution_count": 2,
   "metadata": {},
   "outputs": [],
   "source": [
    "gridscan = GridScan(numXgridpoints = 60, numYgridpoints = 60)"
   ]
  },
  {
   "cell_type": "code",
   "execution_count": 3,
   "metadata": {},
   "outputs": [
    {
     "data": {
      "text/plain": [
       "'Max Value has been updated'"
      ]
     },
     "execution_count": 3,
     "metadata": {},
     "output_type": "execute_result"
    }
   ],
   "source": [
    "gridscan.max_spot_value(\"ForceSpotNumber\")"
   ]
  },
  {
   "cell_type": "code",
   "execution_count": 4,
   "metadata": {},
   "outputs": [
    {
     "name": "stdout",
     "output_type": "stream",
     "text": [
      "['PVH(\"ForceSpotNumber\",3610)']\n"
     ]
    }
   ],
   "source": [
    "print(gridscan.masterpanel.command_list)"
   ]
  },
  {
   "cell_type": "code",
   "execution_count": 7,
   "metadata": {},
   "outputs": [],
   "source": [
    "from Asylum_Research_AFM.Controls.master_panel import *"
   ]
  },
  {
   "cell_type": "code",
   "execution_count": 8,
   "metadata": {},
   "outputs": [],
   "source": [
    "masterpanel=MasterPanel()"
   ]
  },
  {
   "cell_type": "code",
   "execution_count": 4,
   "metadata": {},
   "outputs": [],
   "source": [
    "masterpanel.update_params()"
   ]
  },
  {
   "cell_type": "code",
   "execution_count": 20,
   "metadata": {},
   "outputs": [],
   "source": [
    "masterpanel.td_update_move(xpos=-1.09,ypos=0.957)"
   ]
  },
  {
   "cell_type": "code",
   "execution_count": 8,
   "metadata": {},
   "outputs": [
    {
     "name": "stdout",
     "output_type": "stream",
     "text": [
      "[]\n"
     ]
    }
   ],
   "source": [
    "print(masterpanel.command_list)"
   ]
  },
  {
   "cell_type": "code",
   "execution_count": 16,
   "metadata": {},
   "outputs": [
    {
     "name": "stdout",
     "output_type": "stream",
     "text": [
      "<zip object at 0x000001EDFF01D480>\n"
     ]
    }
   ],
   "source": [
    "# Create arrays of cell borders using linspace with the specified number of points\n",
    "x = np.linspace(0, 60, 60)\n",
    "y = np.linspace(0, 60, 60)\n",
    "\n",
    "# Create a grid\n",
    "X, Y = np.meshgrid(x, y)"
   ]
  },
  {
   "cell_type": "markdown",
   "metadata": {},
   "source": []
  },
  {
   "cell_type": "code",
   "execution_count": 7,
   "metadata": {},
   "outputs": [],
   "source": [
    "gridscan.create_grid_on_igor()"
   ]
  },
  {
   "cell_type": "code",
   "execution_count": 9,
   "metadata": {},
   "outputs": [],
   "source": [
    "gridscan.masterpanel.execute()"
   ]
  },
  {
   "cell_type": "code",
   "execution_count": null,
   "metadata": {},
   "outputs": [],
   "source": [
    "gridscan.clean_up()"
   ]
  },
  {
   "cell_type": "code",
   "execution_count": null,
   "metadata": {},
   "outputs": [],
   "source": [
    "def dict_generator(list_):\n",
    "        for list_ in list_:\n",
    "            yield list_"
   ]
  },
  {
   "cell_type": "code",
   "execution_count": null,
   "metadata": {},
   "outputs": [],
   "source": [
    "generator = dict_generator(gridscan.numbered_grid)"
   ]
  },
  {
   "cell_type": "code",
   "execution_count": null,
   "metadata": {},
   "outputs": [],
   "source": [
    "key, value = generator.__next__()"
   ]
  },
  {
   "cell_type": "code",
   "execution_count": null,
   "metadata": {},
   "outputs": [],
   "source": [
    "key[0]"
   ]
  },
  {
   "cell_type": "code",
   "execution_count": 47,
   "metadata": {},
   "outputs": [],
   "source": [
    "self = gridscan\n",
    "scansize = self.main_panel.get_params([\"ScanSize\"], \"MasterVariablesWave\", \"root:packages:MFP3D:main:variables\")\n",
    "Xoffset = self.main_panel.get_params([\"XOffset\"], \"MasterVariablesWave\", \"root:packages:MFP3D:main:variables\")\n",
    "Yoffset = self.main_panel.get_params([\"YOffset\"], \"MasterVariablesWave\", \"root:packages:MFP3D:main:variables\")\n",
    "Xlvdtsens = self.main_panel.get_params([\"XLVDTSens\"], \"MasterVariablesWave\", \"root:packages:MFP3D:main:variables\")\n",
    "Xlvdtoffset = self.main_panel.get_params([\"XLVDTOffset\"], \"MasterVariablesWave\", \"root:packages:MFP3D:main:variables\")\n",
    "Ylvdtsens = self.main_panel.get_params([\"YLVDTSens\"], \"MasterVariablesWave\", \"root:packages:MFP3D:main:variables\")\n",
    "Ylvdtoffset = self.main_panel.get_params([\"YLVDTOffset\"], \"MasterVariablesWave\", \"root:packages:MFP3D:main:variables\")\n",
    "widthratio = self.main_panel.get_params([\"FastRatio\"], \"MasterVariablesWave\", \"root:packages:MFP3D:main:variables\")\n",
    "heightratio = self.main_panel.get_params([\"SlowRatio\"], \"MasterVariablesWave\", \"root:packages:MFP3D:main:variables\")\n",
    "scanangle = self.main_panel.get_params([\"ScanAngle\"], \"MasterVariablesWave\", \"root:packages:MFP3D:main:variables\")"
   ]
  },
  {
   "cell_type": "code",
   "execution_count": null,
   "metadata": {},
   "outputs": [],
   "source": []
  },
  {
   "cell_type": "code",
   "execution_count": 42,
   "metadata": {},
   "outputs": [
    {
     "data": {
      "text/plain": [
       "1.0"
      ]
     },
     "execution_count": 42,
     "metadata": {},
     "output_type": "execute_result"
    }
   ],
   "source": [
    "heightratio"
   ]
  },
  {
   "cell_type": "code",
   "execution_count": 43,
   "metadata": {},
   "outputs": [
    {
     "data": {
      "text/plain": [
       "(2.4999999999999998e-06, -2.584745762711864e-06)"
      ]
     },
     "execution_count": 43,
     "metadata": {},
     "output_type": "execute_result"
    }
   ],
   "source": [
    "scansize/2/heightratio, -scansize/2/heightratio - scansize/(numXgridpoints-1)/heightratio"
   ]
  },
  {
   "cell_type": "code",
   "execution_count": 48,
   "metadata": {},
   "outputs": [],
   "source": [
    "import numpy as np\n",
    "\n",
    "\n",
    " \n",
    "numYgridpoints = 60\n",
    "numXgridpoints = 60\n",
    "\n",
    "\n",
    "# Creating meshgrid\n",
    "GridYLocMat, GridXLocMat = np.meshgrid(\n",
    "    np.arange(scansize/2/heightratio, -scansize/2/heightratio - scansize/(numXgridpoints-1)/heightratio, -scansize/(numXgridpoints-1)/heightratio),\n",
    "    np.arange(-scansize/2/widthratio, scansize/2/widthratio + scansize/(numYgridpoints-1)/widthratio, scansize/(numYgridpoints-1)/widthratio)\n",
    ")\n",
    "\n",
    " \n",
    "\n",
    "# Converting scanangle to radians\n",
    "theta = -scanangle * np.pi / 180\n",
    "\n",
    " \n",
    "\n",
    "# Initializing XLocVMat and YLocVMat with the same shape as GridXLocMat\n",
    "XLocVMat = np.zeros_like(GridXLocMat)\n",
    "YLocVMat = np.zeros_like(GridYLocMat)\n",
    "\n",
    " \n",
    "\n",
    "# Rotating grid locations\n",
    "for k1 in range(numYgridpoints):\n",
    "    for k2 in range(numXgridpoints):\n",
    "        R1 = np.array([GridXLocMat[k1, k2], GridYLocMat[k1, k2]])\n",
    "\n",
    " \n",
    "\n",
    "        rotation_matrix = np.array([[np.cos(theta), np.sin(theta)], [-np.sin(theta), np.cos(theta)]])\n",
    "        R2 = np.dot(R1, rotation_matrix)\n",
    "\n",
    " \n",
    "\n",
    "        GridXLocMat[k1, k2] = R2[0]\n",
    "        GridYLocMat[k1, k2] = R2[1]\n",
    "\n",
    " \n",
    "\n",
    "        XLocVMat[k1, k2] = (R2[0] + Xoffset) / Xlvdtsens + Xlvdtoffset\n",
    "        YLocVMat[k1, k2] = (R2[1] + Yoffset) / Ylvdtsens + Ylvdtoffset\n",
    "\n",
    " \n",
    "\n",
    "# Transposing the matrices\n",
    "XLocVMat = XLocVMat.T\n",
    "YLocVMat = YLocVMat.T"
   ]
  },
  {
   "cell_type": "code",
   "execution_count": 49,
   "metadata": {},
   "outputs": [
    {
     "name": "stdout",
     "output_type": "stream",
     "text": [
      "-1.0993395091769944 0.9577834646229049\n"
     ]
    }
   ],
   "source": [
    "print(XLocVMat[0,0],YLocVMat[0,0])"
   ]
  },
  {
   "cell_type": "code",
   "execution_count": 32,
   "metadata": {},
   "outputs": [
    {
     "data": {
      "text/plain": [
       "0.0"
      ]
     },
     "execution_count": 32,
     "metadata": {},
     "output_type": "execute_result"
    }
   ],
   "source": [
    "scanangle"
   ]
  },
  {
   "cell_type": "code",
   "execution_count": 50,
   "metadata": {},
   "outputs": [
    {
     "data": {
      "text/plain": [
       "'GoToSpot()'"
      ]
     },
     "execution_count": 50,
     "metadata": {},
     "output_type": "execute_result"
    }
   ],
   "source": [
    "r'GoToSpot()'"
   ]
  }
 ],
 "metadata": {
  "kernelspec": {
   "display_name": "afm",
   "language": "python",
   "name": "python3"
  },
  "language_info": {
   "codemirror_mode": {
    "name": "ipython",
    "version": 3
   },
   "file_extension": ".py",
   "mimetype": "text/x-python",
   "name": "python",
   "nbconvert_exporter": "python",
   "pygments_lexer": "ipython3",
   "version": "3.11.4"
  },
  "orig_nbformat": 4
 },
 "nbformat": 4,
 "nbformat_minor": 2
}
