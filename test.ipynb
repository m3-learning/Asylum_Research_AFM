{
 "cells": [
  {
   "cell_type": "code",
   "execution_count": 5,
   "metadata": {},
   "outputs": [],
   "source": [
    "from src.core.Interface import AFM\n",
    "from src.core.master_panel import MainPanel"
   ]
  },
  {
   "cell_type": "code",
   "execution_count": 6,
   "metadata": {},
   "outputs": [],
   "source": [
    "basepath = r\"C:\\Users\\Yael\\OneDrive - Drexel University\\Documents\"\n",
    "afm = AFM(basepath=basepath)"
   ]
  },
  {
   "cell_type": "code",
   "execution_count": 6,
   "metadata": {},
   "outputs": [
    {
     "data": {
      "text/plain": [
       "'./\\\\\\\\ToIgor.bat'"
      ]
     },
     "execution_count": 6,
     "metadata": {},
     "output_type": "execute_result"
    }
   ],
   "source": [
    "afm.bat"
   ]
  },
  {
   "cell_type": "code",
   "execution_count": 1,
   "metadata": {},
   "outputs": [
    {
     "name": "stdout",
     "output_type": "stream",
     "text": [
      "['PV(\"ScanSize\",10)', 'PV(\"ScanRate\",5.0)', 'PV(\"IntegralGain\",0.01)', 'PV(\"AmplitudeSetpointVolts\",0.5)', 'PV(\"DriveFrequency\",1000)']\n"
     ]
    }
   ],
   "source": [
    "from src.core.master_panel import MainPanel, _possible_params\n",
    "# Create an instance of the MainPanel class\n",
    "main_panel = MainPanel()\n",
    "\n",
    "# Update the parameters using the update_params method\n",
    "main_panel.update_params(\"ScanSize\", 5e-06)\n",
    "main_panel.update_params(\"ScanRate\", 3.00)\n",
    "main_panel.update_params(\"IntegralGain\", 38.90)\n",
    "\n",
    "\n",
    "# Execute the commands as a script\n",
    "main_panel.script = True\n",
    "\n",
    "# Print the list of commands\n",
    "print(main_panel.command_list)\n"
   ]
  },
  {
   "cell_type": "code",
   "execution_count": 8,
   "metadata": {},
   "outputs": [],
   "source": [
    "afm.write_arcmd(main_panel.command_list)"
   ]
  },
  {
   "cell_type": "code",
   "execution_count": 9,
   "metadata": {},
   "outputs": [],
   "source": [
    "afm.send_command()"
   ]
  }
 ],
 "metadata": {
  "kernelspec": {
   "display_name": "afm_datafed",
   "language": "python",
   "name": "python3"
  },
  "language_info": {
   "codemirror_mode": {
    "name": "ipython",
    "version": 3
   },
   "file_extension": ".py",
   "mimetype": "text/x-python",
   "name": "python",
   "nbconvert_exporter": "python",
   "pygments_lexer": "ipython3",
   "version": "3.11.1"
  },
  "orig_nbformat": 4
 },
 "nbformat": 4,
 "nbformat_minor": 2
}
