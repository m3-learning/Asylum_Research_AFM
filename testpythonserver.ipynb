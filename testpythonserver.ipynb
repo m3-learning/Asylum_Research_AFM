{
 "cells": [
  {
   "cell_type": "code",
   "execution_count": null,
   "metadata": {},
   "outputs": [],
   "source": [
    "import socket\n",
    "\n",
    "\n",
    "\n",
    "\n",
    "# Define the server's host and port\n",
    "\n",
    "HOST = '127.0.0.1'  # The server's hostname or IP address\n",
    "\n",
    "PORT = 65432        # The port used by the server\n",
    "\n",
    "\n",
    "\n",
    "\n",
    "# Create a new socket using the AF_INET address family (Internet) and SOCK_STREAM socket type (TCP)\n",
    "\n",
    "with socket.socket(socket.AF_INET, socket.SOCK_STREAM) as s:\n",
    "\n",
    "    # Connect to the server\n",
    "\n",
    "    s.connect((HOST, PORT))\n",
    "\n",
    "\n",
    "\n",
    "\n",
    "    # Send the command\n",
    "\n",
    "    command = 'Hello, Server!'\n",
    "\n",
    "    s.sendall(command.encode())\n",
    "\n",
    "\n",
    "\n",
    "\n",
    "    # Receive the response\n",
    "\n",
    "    data = s.recv(1024)"
   ]
  }
 ],
 "metadata": {
  "kernelspec": {
   "display_name": "base",
   "language": "python",
   "name": "python3"
  },
  "language_info": {
   "codemirror_mode": {
    "name": "ipython",
    "version": 3
   },
   "file_extension": ".py",
   "mimetype": "text/x-python",
   "name": "python",
   "nbconvert_exporter": "python",
   "pygments_lexer": "ipython3",
   "version": "3.10.9"
  },
  "orig_nbformat": 4
 },
 "nbformat": 4,
 "nbformat_minor": 2
}
