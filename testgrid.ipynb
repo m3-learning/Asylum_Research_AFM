{
 "cells": [
  {
   "cell_type": "code",
   "execution_count": null,
   "metadata": {},
   "outputs": [],
   "source": [
    "import win32com"
   ]
  },
  {
   "cell_type": "code",
   "execution_count": null,
   "metadata": {},
   "outputs": [],
   "source": [
    "from src.Controls.master_panel import *\n",
    "from src.core.Igor_activex_grid import *"
   ]
  },
  {
   "cell_type": "code",
   "execution_count": null,
   "metadata": {},
   "outputs": [],
   "source": [
    "my_data = get_wave_data(\"MasterVariablesWave\",\"root:packages:MFP3D:main:variables\")\n"
   ]
  },
  {
   "cell_type": "code",
   "execution_count": null,
   "metadata": {},
   "outputs": [],
   "source": [
    "grid_param_list = ['ScanSize']\n",
    "my_grid_param = create_grid_params(grid_param_list, my_data)"
   ]
  },
  {
   "cell_type": "code",
   "execution_count": null,
   "metadata": {},
   "outputs": [],
   "source": [
    "my_grid = grid_maker(60,60,my_grid_param['ScanSize'])\n"
   ]
  },
  {
   "cell_type": "code",
   "execution_count": null,
   "metadata": {},
   "outputs": [],
   "source": [
    "my_grid[0].shape"
   ]
  },
  {
   "cell_type": "code",
   "execution_count": null,
   "metadata": {},
   "outputs": [],
   "source": [
    "for x, y in zip(my_grid[0].flatten(), my_grid[1].flatten()):\n",
    "    print(x, y)"
   ]
  },
  {
   "cell_type": "code",
   "execution_count": 1,
   "metadata": {},
   "outputs": [],
   "source": [
    "from Asylum_Research_AFM.Controls.scans import GridScan"
   ]
  },
  {
   "cell_type": "code",
   "execution_count": 2,
   "metadata": {},
   "outputs": [
    {
     "ename": "TypeError",
     "evalue": "unsupported operand type(s) for /: 'NoneType' and 'str'",
     "output_type": "error",
     "traceback": [
      "\u001b[1;31m---------------------------------------------------------------------------\u001b[0m",
      "\u001b[1;31mTypeError\u001b[0m                                 Traceback (most recent call last)",
      "Cell \u001b[1;32mIn[2], line 1\u001b[0m\n\u001b[1;32m----> 1\u001b[0m gridscan \u001b[39m=\u001b[39m GridScan(num_x_grid_points \u001b[39m=\u001b[39;49m \u001b[39m60\u001b[39;49m, num_y_grid_points \u001b[39m=\u001b[39;49m \u001b[39m60\u001b[39;49m)\n",
      "File \u001b[1;32mc:\\Users\\Asylum User\\anaconda3\\envs\\afm\\Lib\\site-packages\\Asylum_Research_AFM\\Controls\\scans.py:23\u001b[0m, in \u001b[0;36mGridScan.__init__\u001b[1;34m(self, num_x_grid_points, num_y_grid_points, igor_path, basepath, filename, verbose)\u001b[0m\n\u001b[0;32m     21\u001b[0m \u001b[39mself\u001b[39m\u001b[39m.\u001b[39mnum_x_grid_points \u001b[39m=\u001b[39m num_x_grid_points\n\u001b[0;32m     22\u001b[0m \u001b[39mself\u001b[39m\u001b[39m.\u001b[39mnum_y_grid_points \u001b[39m=\u001b[39m num_y_grid_points\n\u001b[1;32m---> 23\u001b[0m \u001b[39mself\u001b[39m\u001b[39m.\u001b[39mmain_panel \u001b[39m=\u001b[39m MainPanel(\n\u001b[0;32m     24\u001b[0m     script\u001b[39m=\u001b[39;49m\u001b[39mTrue\u001b[39;49;00m,\n\u001b[0;32m     25\u001b[0m     igor_path\u001b[39m=\u001b[39;49migor_path,\n\u001b[0;32m     26\u001b[0m     basepath\u001b[39m=\u001b[39;49mbasepath,\n\u001b[0;32m     27\u001b[0m     filename\u001b[39m=\u001b[39;49mfilename,\n\u001b[0;32m     28\u001b[0m     verbose\u001b[39m=\u001b[39;49mverbose,\n\u001b[0;32m     29\u001b[0m )\n\u001b[0;32m     30\u001b[0m \u001b[39mself\u001b[39m\u001b[39m.\u001b[39m_raw_grid \u001b[39m=\u001b[39m ()\n\u001b[0;32m     31\u001b[0m \u001b[39mself\u001b[39m\u001b[39m.\u001b[39mnumbered_grid: \u001b[39mdict\u001b[39m[\u001b[39mint\u001b[39m, \u001b[39mtuple\u001b[39m] \u001b[39m=\u001b[39m {}\n",
      "File \u001b[1;32mc:\\Users\\Asylum User\\anaconda3\\envs\\afm\\Lib\\site-packages\\Asylum_Research_AFM\\Controls\\master_panel.py:57\u001b[0m, in \u001b[0;36mMainPanel.__init__\u001b[1;34m(self, script, *args, **kwargs)\u001b[0m\n\u001b[0;32m     56\u001b[0m \u001b[39mdef\u001b[39;00m \u001b[39m__init__\u001b[39m(\u001b[39mself\u001b[39m, script: \u001b[39mbool\u001b[39m \u001b[39m=\u001b[39m \u001b[39mTrue\u001b[39;00m, \u001b[39m*\u001b[39margs, \u001b[39m*\u001b[39m\u001b[39m*\u001b[39mkwargs):\n\u001b[1;32m---> 57\u001b[0m     \u001b[39msuper\u001b[39;49m()\u001b[39m.\u001b[39;49m\u001b[39m__init__\u001b[39;49m(\u001b[39m*\u001b[39;49margs, \u001b[39m*\u001b[39;49m\u001b[39m*\u001b[39;49mkwargs)\n\u001b[0;32m     58\u001b[0m     \u001b[39mself\u001b[39m\u001b[39m.\u001b[39mcommand_list \u001b[39m=\u001b[39m []\n\u001b[0;32m     59\u001b[0m     \u001b[39mself\u001b[39m\u001b[39m.\u001b[39mscript \u001b[39m=\u001b[39m script\n",
      "File \u001b[1;32m<string>:7\u001b[0m, in \u001b[0;36m__init__\u001b[1;34m(self, igor_path, basepath, filename, verbose)\u001b[0m\n",
      "File \u001b[1;32mc:\\Users\\Asylum User\\anaconda3\\envs\\afm\\Lib\\site-packages\\Asylum_Research_AFM\\Core\\Interface.py:33\u001b[0m, in \u001b[0;36mAFM.__post_init__\u001b[1;34m(self)\u001b[0m\n\u001b[0;32m     29\u001b[0m \u001b[39mdef\u001b[39;00m \u001b[39m__post_init__\u001b[39m(\u001b[39mself\u001b[39m):\n\u001b[0;32m     30\u001b[0m \u001b[39m    \u001b[39m\u001b[39m\"\"\"\u001b[39;00m\n\u001b[0;32m     31\u001b[0m \u001b[39m    Initialize paths and create BAT file.\u001b[39;00m\n\u001b[0;32m     32\u001b[0m \u001b[39m    \"\"\"\u001b[39;00m\n\u001b[1;32m---> 33\u001b[0m     \u001b[39mself\u001b[39m\u001b[39m.\u001b[39marcmd \u001b[39m=\u001b[39m \u001b[39mself\u001b[39;49m\u001b[39m.\u001b[39;49mbasepath \u001b[39m/\u001b[39;49m \u001b[39mf\u001b[39;49m\u001b[39m\"\u001b[39;49m\u001b[39m{\u001b[39;49;00m\u001b[39mself\u001b[39;49m\u001b[39m.\u001b[39;49mfilename\u001b[39m}\u001b[39;49;00m\u001b[39m.arcmd\u001b[39;49m\u001b[39m\"\u001b[39;49m\n\u001b[0;32m     34\u001b[0m     \u001b[39mself\u001b[39m\u001b[39m.\u001b[39mbat \u001b[39m=\u001b[39m \u001b[39mself\u001b[39m\u001b[39m.\u001b[39mbasepath \u001b[39m/\u001b[39m \u001b[39mf\u001b[39m\u001b[39m\"\u001b[39m\u001b[39m{\u001b[39;00m\u001b[39mself\u001b[39m\u001b[39m.\u001b[39mfilename\u001b[39m}\u001b[39;00m\u001b[39m.bat\u001b[39m\u001b[39m\"\u001b[39m\n\u001b[0;32m     35\u001b[0m     \u001b[39mself\u001b[39m\u001b[39m.\u001b[39mwrite_bat()\n",
      "\u001b[1;31mTypeError\u001b[0m: unsupported operand type(s) for /: 'NoneType' and 'str'"
     ]
    }
   ],
   "source": [
    "gridscan = GridScan(num_x_grid_points = 60, num_y_grid_points = 60)"
   ]
  },
  {
   "cell_type": "code",
   "execution_count": null,
   "metadata": {},
   "outputs": [],
   "source": []
  },
  {
   "cell_type": "code",
   "execution_count": null,
   "metadata": {},
   "outputs": [],
   "source": [
    "gridscan.make_grid()\n"
   ]
  },
  {
   "cell_type": "markdown",
   "metadata": {},
   "source": []
  },
  {
   "cell_type": "code",
   "execution_count": null,
   "metadata": {},
   "outputs": [],
   "source": [
    "gridscan.create_grid_on_igor()"
   ]
  },
  {
   "cell_type": "code",
   "execution_count": null,
   "metadata": {},
   "outputs": [],
   "source": [
    "gridscan.main_panel.execute()"
   ]
  },
  {
   "cell_type": "code",
   "execution_count": null,
   "metadata": {},
   "outputs": [],
   "source": [
    "gridscan.clean_up()"
   ]
  },
  {
   "cell_type": "code",
   "execution_count": null,
   "metadata": {},
   "outputs": [],
   "source": [
    "def dict_generator(list_):\n",
    "        for list_ in list_:\n",
    "            yield list_"
   ]
  },
  {
   "cell_type": "code",
   "execution_count": null,
   "metadata": {},
   "outputs": [],
   "source": [
    "generator = dict_generator(gridscan.numbered_grid)"
   ]
  },
  {
   "cell_type": "code",
   "execution_count": null,
   "metadata": {},
   "outputs": [],
   "source": [
    "key, value = generator.__next__()"
   ]
  },
  {
   "cell_type": "code",
   "execution_count": null,
   "metadata": {},
   "outputs": [],
   "source": [
    "key[0]"
   ]
  },
  {
   "cell_type": "code",
   "execution_count": null,
   "metadata": {},
   "outputs": [],
   "source": []
  }
 ],
 "metadata": {
  "kernelspec": {
   "display_name": "afm",
   "language": "python",
   "name": "python3"
  },
  "language_info": {
   "codemirror_mode": {
    "name": "ipython",
    "version": 3
   },
   "file_extension": ".py",
   "mimetype": "text/x-python",
   "name": "python",
   "nbconvert_exporter": "python",
   "pygments_lexer": "ipython3",
   "version": "3.11.4"
  },
  "orig_nbformat": 4
 },
 "nbformat": 4,
 "nbformat_minor": 2
}
