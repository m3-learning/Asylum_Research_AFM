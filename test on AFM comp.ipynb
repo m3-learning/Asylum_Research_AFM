{
 "cells": [
  {
   "cell_type": "code",
   "execution_count": 1,
   "metadata": {},
   "outputs": [],
   "source": [
    "from src.core.Interface import AFM"
   ]
  },
  {
   "cell_type": "code",
   "execution_count": 2,
   "metadata": {},
   "outputs": [],
   "source": [
    "basepath = r\"C:\\Users\\Asylum User\\Documents\\code\\junk\"\n",
    "afm = AFM(basepath=basepath)"
   ]
  },
  {
   "cell_type": "code",
   "execution_count": 3,
   "metadata": {},
   "outputs": [
    {
     "name": "stdout",
     "output_type": "stream",
     "text": [
      "['ARGo2ImagePos(7e-06,6e-06)', 'DrawSpot(\"Draw\")']\n"
     ]
    }
   ],
   "source": [
    "\n",
    "from master_panel import MainPanel\n",
    "main_panel = MainPanel()\n",
    "\n",
    "main_panel.update_spot(7e-6,6e-6)\n",
    "main_panel.draw_update()\n",
    "\n",
    "main_panel.script = True\n",
    "\n",
    "print(main_panel.command_list)\n",
    "\n"
   ]
  },
  {
   "cell_type": "code",
   "execution_count": 2,
   "metadata": {},
   "outputs": [
    {
     "name": "stdout",
     "output_type": "stream",
     "text": [
      "['PV(\"DwellTime\",3.0)']\n"
     ]
    }
   ],
   "source": [
    "from master_panel import MainPanel, _possible_params\n",
    "# Create an instance of the MainPanel class\n",
    "main_panel = MainPanel()\n",
    "\n",
    "# Update the parameters using the update_params method\n",
    "main_panel.update_params(\"DwellTime\", 3.00)\n",
    "\n",
    "\n",
    "# Execute the commands as a script\n",
    "main_panel.script = True\n",
    "\n",
    "# Print the list of commands\n",
    "print(main_panel.command_list)\n",
    "\n"
   ]
  },
  {
   "cell_type": "code",
   "execution_count": null,
   "metadata": {},
   "outputs": [],
   "source": [
    "\n"
   ]
  },
  {
   "cell_type": "code",
   "execution_count": 4,
   "metadata": {},
   "outputs": [],
   "source": [
    "afm.write_arcmd(main_panel.command_list)"
   ]
  },
  {
   "cell_type": "code",
   "execution_count": 5,
   "metadata": {},
   "outputs": [],
   "source": [
    "afm.send_command()"
   ]
  },
  {
   "cell_type": "code",
   "execution_count": 8,
   "metadata": {},
   "outputs": [
    {
     "data": {
      "text/plain": [
       "'C:\\\\Users\\\\Asylum User\\\\Documents\\\\code\\\\junk\\\\ToIgor.bat'"
      ]
     },
     "execution_count": 8,
     "metadata": {},
     "output_type": "execute_result"
    }
   ],
   "source": [
    "afm.bat.replace(\"\\\\\\\\\",\"\\\\\")"
   ]
  }
 ],
 "metadata": {
  "kernelspec": {
   "display_name": "afm",
   "language": "python",
   "name": "afm"
  },
  "language_info": {
   "codemirror_mode": {
    "name": "ipython",
    "version": 3
   },
   "file_extension": ".py",
   "mimetype": "text/x-python",
   "name": "python",
   "nbconvert_exporter": "python",
   "pygments_lexer": "ipython3",
   "version": "3.10.9"
  },
  "orig_nbformat": 4
 },
 "nbformat": 4,
 "nbformat_minor": 2
}
